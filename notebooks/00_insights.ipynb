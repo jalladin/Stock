{
 "cells": [
  {
   "cell_type": "markdown",
   "metadata": {},
   "source": [
    "3 tipos de produtos:  \n",
    "    - Skincare 40% de los productos\n",
    "    - Haircare 34% de los productos\n",
    "    - Cosmetics 26% de los productos\n",
    "**Se puede crear un filtro por product type en PowerBi\n",
    "\n",
    "\n",
    "Rotación = cuántas veces se vende un producto en un periodo.\n",
    "Es un KPI súper usado en Supply Chain para saber:\n",
    "    - Qué productos \"se mueven\" rápido (rotación alta).\n",
    "    - Qué productos quedan parados en stock (rotación baja).\n",
    "¿Por qué compararlo por tipo de producto?\n",
    "Porque te ayuda a responder preguntas reales como:\n",
    "¿Los productos de Cosmetics se venden más rápido que los de Hair?\n",
    "¿Los de Skin están ocupando espacio y no se mueven?\n",
    "¿Deberíamos comprar más de un tipo y menos de otro?\n",
    "\n",
    "¿Cómo se calcula rotación?\n",
    "Rotación = Total de unidades vendidas / Stock promedio\n",
    "Si un producto se vende 200 veces al mes y tienes en promedio 50 unidades en stock la rotacion es de 4 veces al mes"
   ]
  },
  {
   "cell_type": "markdown",
   "metadata": {},
   "source": [
    " RESULTADO DE LA ROTACIÓN POR CATEGORÍA\\\n",
    "Product type\ttotal_sold\tstock_total\trotation_media\n",
    "skincare\t20,731\t1,608\t12.89\n",
    "haircare\t13,611\t1,644\t8.28\n",
    "cosmetics\t11,757\t1,525\t7.71\n",
    "\n",
    " ¿Qué decisiones se podrían tomar?\n",
    "Aumentar reposición de skincare para no perder ventas por falta de producto.\n",
    "\n",
    "Revisar promociones o marketing para cosmetics si el movimiento es bajo.\n",
    "\n",
    "Comparar con márgenes de beneficio: no todo lo que rota poco es malo si deja dinero."
   ]
  }
 ],
 "metadata": {
  "language_info": {
   "name": "python"
  }
 },
 "nbformat": 4,
 "nbformat_minor": 2
}
